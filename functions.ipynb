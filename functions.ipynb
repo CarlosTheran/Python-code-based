{
 "cells": [
  {
   "cell_type": "code",
   "execution_count": 5,
   "metadata": {},
   "outputs": [],
   "source": [
    "# our first function\n",
    "\n",
    "def greeting_hello():\n",
    "    print(\"Hello from a function\")\n",
    "\n",
    "def greeting_hello_name(name):\n",
    "    print(\"Hello \",name)\n",
    "\n"
   ]
  },
  {
   "cell_type": "code",
   "execution_count": 8,
   "metadata": {},
   "outputs": [
    {
     "name": "stdout",
     "output_type": "stream",
     "text": [
      "Hello from a function\n",
      "Hello  Carlos\n"
     ]
    }
   ],
   "source": [
    "greeting_hello()\n",
    "\n",
    "name = \"Carlos\"\n",
    "greeting_hello_name(name)"
   ]
  },
  {
   "cell_type": "code",
   "execution_count": 24,
   "metadata": {},
   "outputs": [],
   "source": [
    "# Arbitrary Keyword Arguments, **kwarg\n",
    "def print_last_name(**name):\n",
    "    print(\"The last name are\" + name[\"lname\"])\n",
    "    print(\"The last name are\" + name[\"tname\"])\n",
    "    print(\"The last name are\" + name[\"yname\"])\n",
    "\n",
    "# Not Arbitrary Keyword Arguments, **kwarg\n",
    "def print_last_name_copy(lname,tname,yname):\n",
    "    print(\"The last name are\" + lname)\n",
    "    print(\"The last name are\" + tname)\n",
    "    print(\"The last name are\" + yname) "
   ]
  },
  {
   "cell_type": "code",
   "execution_count": 25,
   "metadata": {},
   "outputs": [
    {
     "name": "stdout",
     "output_type": "stream",
     "text": [
      "The last name are Theran\n",
      "The last name are Parra\n",
      "The last name are Dexter\n",
      "The last name are Theran\n",
      "The last name are Parra\n",
      "The last name are Dexter\n"
     ]
    }
   ],
   "source": [
    "print_last_name(lname = \" Theran\",tname=\" Parra\",yname=\" Dexter\")\n",
    "\n",
    "print_last_name_copy(lname = \" Theran\",tname=\" Parra\",yname=\" Dexter\")"
   ]
  },
  {
   "cell_type": "code",
   "execution_count": 26,
   "metadata": {},
   "outputs": [],
   "source": [
    "def division_int(value_a, value_b):\n",
    "    return value_a/value_b"
   ]
  },
  {
   "cell_type": "code",
   "execution_count": 29,
   "metadata": {},
   "outputs": [
    {
     "name": "stdout",
     "output_type": "stream",
     "text": [
      "5.0\n"
     ]
    }
   ],
   "source": [
    "result = division_int(15,3)\n",
    "print(result)"
   ]
  },
  {
   "cell_type": "code",
   "execution_count": 30,
   "metadata": {},
   "outputs": [],
   "source": [
    "def sum_int(value_a, value_b):\n",
    "    return value_a + value_b\n",
    "\n",
    "def sub_int(value_a, value_b):\n",
    "    return value_a - value_b"
   ]
  },
  {
   "cell_type": "code",
   "execution_count": 32,
   "metadata": {},
   "outputs": [
    {
     "name": "stdout",
     "output_type": "stream",
     "text": [
      "32\n"
     ]
    }
   ],
   "source": [
    "print(sum_int(7, 11) + sub_int(20, 6))"
   ]
  },
  {
   "cell_type": "code",
   "execution_count": 33,
   "metadata": {},
   "outputs": [],
   "source": [
    "def temperature(snowing,temp):\n",
    "    if temp < 0:\n",
    "        print(\"It is freezing\")\n",
    "        if snowing:\n",
    "            print(\"Put on boots\")\n",
    "            print(\"Time for hot chocolate\")\n",
    "        print(\"Bye\") \n"
   ]
  },
  {
   "cell_type": "code",
   "execution_count": 35,
   "metadata": {},
   "outputs": [
    {
     "name": "stdout",
     "output_type": "stream",
     "text": [
      "It is freezing\n",
      "Bye\n"
     ]
    }
   ],
   "source": [
    "temperature(False,-1)"
   ]
  }
 ],
 "metadata": {
  "interpreter": {
   "hash": "31f2aee4e71d21fbe5cf8b01ff0e069b9275f58929596ceb00d14d90e3e16cd6"
  },
  "kernelspec": {
   "display_name": "Python 3.8.9 64-bit",
   "language": "python",
   "name": "python3"
  },
  "language_info": {
   "codemirror_mode": {
    "name": "ipython",
    "version": 3
   },
   "file_extension": ".py",
   "mimetype": "text/x-python",
   "name": "python",
   "nbconvert_exporter": "python",
   "pygments_lexer": "ipython3",
   "version": "3.8.9"
  },
  "orig_nbformat": 4
 },
 "nbformat": 4,
 "nbformat_minor": 2
}
