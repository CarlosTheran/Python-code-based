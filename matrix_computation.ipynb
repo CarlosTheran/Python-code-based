{
 "cells": [
  {
   "cell_type": "code",
   "execution_count": 1,
   "metadata": {},
   "outputs": [],
   "source": [
    "import numpy as np"
   ]
  },
  {
   "cell_type": "code",
   "execution_count": 2,
   "metadata": {},
   "outputs": [
    {
     "name": "stdout",
     "output_type": "stream",
     "text": [
      "[[1 5 6]\n",
      " [8 5 9]\n",
      " [1 0 3]] \n",
      "\n",
      "[[12 20 -3]\n",
      " [ 5 -8  5]\n",
      " [ 6  9 17]]\n"
     ]
    }
   ],
   "source": [
    "# create two square matrix\n",
    "x = np.array([[1,5,6],[8,5,9],[1,0,3]])\n",
    "z = np.array([[12,20,-3],[5,-8,5],[6,9,17]])\n",
    "print(x,'\\n')\n",
    "print(z)"
   ]
  },
  {
   "cell_type": "code",
   "execution_count": 3,
   "metadata": {},
   "outputs": [
    {
     "name": "stdout",
     "output_type": "stream",
     "text": [
      "[[13 25  3]\n",
      " [13 -3 14]\n",
      " [ 7  9 20]] \n",
      "\n",
      "[[-11 -15   9]\n",
      " [  3  13   4]\n",
      " [ -5  -9 -14]]\n"
     ]
    }
   ],
   "source": [
    "# Add and sustract the matrices x and z\n",
    "r_added = x.__add__(z)\n",
    "r_sub = x.__sub__(z)\n",
    "print(r_added,'\\n')\n",
    "print(r_sub)"
   ]
  },
  {
   "cell_type": "code",
   "execution_count": 4,
   "metadata": {},
   "outputs": [
    {
     "name": "stdout",
     "output_type": "stream",
     "text": [
      "[[ 12 100 -18]\n",
      " [ 40 -40  45]\n",
      " [  6   0  51]] \n",
      "\n",
      "[[ 73  34 124]\n",
      " [175 201 154]\n",
      " [ 30  47  48]]\n"
     ]
    }
   ],
   "source": [
    "#pieceswise multiplication and multiplication of two matrices\n",
    "r_piecewise = x.__mul__(z)\n",
    "r_mul = x.__matmul__(z)\n",
    "print(r_piecewise,'\\n')\n",
    "print(r_mul)"
   ]
  },
  {
   "cell_type": "code",
   "execution_count": 5,
   "metadata": {},
   "outputs": [],
   "source": [
    "# 1x+1y=2 and 10x+35y=30\n",
    "A = np.array([[1,1],[10,35]])\n",
    "b = np.array([[2],[30]])"
   ]
  },
  {
   "cell_type": "code",
   "execution_count": 6,
   "metadata": {},
   "outputs": [
    {
     "name": "stdout",
     "output_type": "stream",
     "text": [
      "dim. of matrix A = (2, 2)\n",
      "dim. of vector b = (2, 1)\n"
     ]
    }
   ],
   "source": [
    "# Verify the size of matrix A and b\n",
    "print('dim. of matrix A =',A.shape)\n",
    "print('dim. of vector b =',b.shape)"
   ]
  },
  {
   "cell_type": "code",
   "execution_count": 7,
   "metadata": {},
   "outputs": [
    {
     "data": {
      "text/plain": [
       "25.000000000000007"
      ]
     },
     "execution_count": 7,
     "metadata": {},
     "output_type": "execute_result"
    }
   ],
   "source": [
    "# Find the det(A)\n",
    "np.linalg.det(A)"
   ]
  },
  {
   "cell_type": "code",
   "execution_count": 8,
   "metadata": {},
   "outputs": [
    {
     "name": "stdout",
     "output_type": "stream",
     "text": [
      "[[ 1.4  -0.04]\n",
      " [-0.4   0.04]]\n"
     ]
    }
   ],
   "source": [
    "# Find the inverse of the matrix A\n",
    "inv_A = np.linalg.inv(A)\n",
    "print(inv_A)"
   ]
  },
  {
   "cell_type": "code",
   "execution_count": 9,
   "metadata": {},
   "outputs": [
    {
     "name": "stdout",
     "output_type": "stream",
     "text": [
      "[[1.6]\n",
      " [0.4]]\n"
     ]
    }
   ],
   "source": [
    "# find the solution\n",
    "sol = inv_A.dot(b)\n",
    "print(sol)"
   ]
  },
  {
   "cell_type": "code",
   "execution_count": 10,
   "metadata": {},
   "outputs": [
    {
     "name": "stdout",
     "output_type": "stream",
     "text": [
      "2.0\n",
      "30.0\n"
     ]
    }
   ],
   "source": [
    "print(1*1.6 + 1*0.4)\n",
    "print(10*1.6 + 35*0.4)"
   ]
  }
 ],
 "metadata": {
  "interpreter": {
   "hash": "48537609f0491a4e374724a8864aed50b564b0806a9c311cacb509fc89655065"
  },
  "kernelspec": {
   "display_name": "Python 3.9.7 64-bit ('base': conda)",
   "language": "python",
   "name": "python3"
  },
  "language_info": {
   "codemirror_mode": {
    "name": "ipython",
    "version": 3
   },
   "file_extension": ".py",
   "mimetype": "text/x-python",
   "name": "python",
   "nbconvert_exporter": "python",
   "pygments_lexer": "ipython3",
   "version": "3.9.7"
  },
  "orig_nbformat": 4
 },
 "nbformat": 4,
 "nbformat_minor": 2
}
