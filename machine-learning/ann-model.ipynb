{
 "cells": [
  {
   "cell_type": "code",
   "execution_count": 2,
   "metadata": {},
   "outputs": [],
   "source": [
    "import numpy as np\n",
    "import matplotlib.pyplot as plt\n",
    "from sklearn import datasets, metrics\n",
    "from sklearn.model_selection import train_test_split\n",
    "from sklearn import preprocessing\n",
    "from sklearn.neural_network import MLPClassifier"
   ]
  },
  {
   "cell_type": "code",
   "execution_count": 5,
   "metadata": {},
   "outputs": [
    {
     "name": "stdout",
     "output_type": "stream",
     "text": [
      "The number of samples in digits dataset is 1797, the dimentoin of each image is 8x8\n"
     ]
    }
   ],
   "source": [
    "# the digits dataset of 8x8 pixel image of digits \n",
    "# that consist in training and target datasets.\n",
    "\n",
    "digits = datasets.load_digits()\n",
    "n_samples = len(digits.images)\n",
    "dimention = digits.images[0].shape\n",
    "print(\"The number of samples in digits dataset is {0:d}, the dimentoin of each image is {1:d}x{1:d}\".format(n_samples,dimention[0]))"
   ]
  },
  {
   "cell_type": "code",
   "execution_count": 7,
   "metadata": {},
   "outputs": [
    {
     "data": {
      "image/png": "[encoded data removed]",
      "text/plain": [
       "<Figure size 720x720 with 3 Axes>"
      ]
     },
     "metadata": {
      "needs_background": "light"
     },
     "output_type": "display_data"
    }
   ],
   "source": [
    "#show the first 3 images\n",
    "_, fig = plt.subplots(nrows=1, ncols=3, figsize=(10,10))\n",
    "for ax, image, label in zip(fig, digits.images, digits.target):\n",
    "    ax.set_axis_off()\n",
    "    ax.imshow(image, cmap=plt.cm.gray_r)\n",
    "    ax.set_title(\"Training: %i\" % label)"
   ]
  },
  {
   "cell_type": "code",
   "execution_count": 8,
   "metadata": {},
   "outputs": [],
   "source": [
    "# reshape the images into a vector Nx1\n",
    "\n",
    "data = digits.images.reshape((n_samples,-1))\n",
    "\n",
    "x_train, x_test, y_train, y_test = train_test_split(data, digits.target, test_size=0.2, shuffle=False, random_state=42)\n"
   ]
  },
  {
   "cell_type": "code",
   "execution_count": 10,
   "metadata": {},
   "outputs": [],
   "source": [
    "# Train the model MLPC using the training subset\n",
    "model = MLPClassifier(solver=\"adam\", hidden_layer_sizes=(10,12),random_state=1, max_iter=600)\n",
    "\n",
    "model.fit(x_train,y_train)\n",
    "classification_results = model.predict(x_test)"
   ]
  },
  {
   "cell_type": "code",
   "execution_count": 12,
   "metadata": {},
   "outputs": [
    {
     "data": {
      "image/png": "[encoded data removed]",
      "text/plain": [
       "<Figure size 720x720 with 3 Axes>"
      ]
     },
     "metadata": {
      "needs_background": "light"
     },
     "output_type": "display_data"
    }
   ],
   "source": [
    "_, fig = plt.subplots(nrows=1, ncols=3, figsize=(10,10))\n",
    "for ax, image, label in zip(fig, x_test, classification_results):\n",
    "    ax.set_axis_off()\n",
    "    image = image.reshape(8,8)\n",
    "    ax.imshow(image, cmap=plt.cm.gray_r)\n",
    "    ax.set_title(\"Prediction: %i\" % label)"
   ]
  },
  {
   "cell_type": "code",
   "execution_count": 13,
   "metadata": {},
   "outputs": [
    {
     "name": "stdout",
     "output_type": "stream",
     "text": [
      "              precision    recall  f1-score   support\n",
      "\n",
      "           0       1.00      0.97      0.99        35\n",
      "           1       0.76      0.78      0.77        36\n",
      "           2       0.91      0.91      0.91        35\n",
      "           3       0.91      0.84      0.87        37\n",
      "           4       0.89      0.92      0.91        37\n",
      "           5       0.83      0.95      0.89        37\n",
      "           6       0.94      0.92      0.93        37\n",
      "           7       0.94      0.83      0.88        36\n",
      "           8       0.81      0.76      0.78        33\n",
      "           9       0.78      0.86      0.82        37\n",
      "\n",
      "    accuracy                           0.88       360\n",
      "   macro avg       0.88      0.87      0.87       360\n",
      "weighted avg       0.88      0.88      0.88       360\n",
      "\n"
     ]
    }
   ],
   "source": [
    "print(metrics.classification_report(y_test,classification_results))"
   ]
  }
 ],
 "metadata": {
  "interpreter": {
   "hash": "48537609f0491a4e374724a8864aed50b564b0806a9c311cacb509fc89655065"
  },
  "kernelspec": {
   "display_name": "Python 3.9.7 ('base')",
   "language": "python",
   "name": "python3"
  },
  "language_info": {
   "codemirror_mode": {
    "name": "ipython",
    "version": 3
   },
   "file_extension": ".py",
   "mimetype": "text/x-python",
   "name": "python",
   "nbconvert_exporter": "python",
   "pygments_lexer": "ipython3",
   "version": "3.9.7"
  },
  "orig_nbformat": 4
 },
 "nbformat": 4,
 "nbformat_minor": 2
}
