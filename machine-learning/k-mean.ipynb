{
 "cells": [
  {
   "cell_type": "code",
   "execution_count": 73,
   "metadata": {},
   "outputs": [],
   "source": [
    "import matplotlib.pyplot as plt\n",
    "from sklearn.datasets import make_blobs\n",
    "from sklearn.cluster import KMeans\n",
    "from sklearn.preprocessing import StandardScaler\n",
    "from sklearn.metrics import silhouette_score\n"
   ]
  },
  {
   "cell_type": "code",
   "execution_count": 74,
   "metadata": {},
   "outputs": [],
   "source": [
    "# generate the data using make_blods(), a convience function in sckit-lean to generate\n",
    "#synthetic cluster\n",
    "features, true_labels = make_blobs(n_samples = 200, centers= 3, cluster_std=2.75, random_state=42)"
   ]
  },
  {
   "cell_type": "code",
   "execution_count": 75,
   "metadata": {},
   "outputs": [
    {
     "name": "stdout",
     "output_type": "stream",
     "text": [
      "[[  9.77075874   3.27621022]\n",
      " [ -9.71349666  11.27451802]\n",
      " [ -6.91330582  -9.34755911]\n",
      " [-10.86185913 -10.75063497]\n",
      " [ -8.50038027  -4.54370383]]\n",
      "[1 0 2 2 2]\n",
      "(200, 2)\n"
     ]
    }
   ],
   "source": [
    "# printing five elements for each of the variable returned.\n",
    "print(features[:5])\n",
    "print(true_labels[:5])\n",
    "\n",
    "# This data has 200 samples and 2 features\n",
    "print(features.shape)"
   ]
  },
  {
   "cell_type": "code",
   "execution_count": 76,
   "metadata": {},
   "outputs": [
    {
     "name": "stdout",
     "output_type": "stream",
     "text": [
      "[[ 2.13082109  0.25604351]\n",
      " [-1.52698523  1.41036744]\n",
      " [-1.00130152 -1.56583175]\n",
      " [-1.74256891 -1.76832509]\n",
      " [-1.29924521 -0.87253446]]\n"
     ]
    }
   ],
   "source": [
    "#The values for all features must be transformed to the same scale,\n",
    "#the process of transforming numricla features to use the same scale\n",
    "# is knownas features scaling or normalization.\n",
    "scaler = StandardScaler()\n",
    "scaled_features = scaler.fit_transform(features)\n",
    "print(scaled_features[:5])"
   ]
  },
  {
   "cell_type": "code",
   "execution_count": 77,
   "metadata": {},
   "outputs": [],
   "source": [
    "# Initiate the Kmeans class\n",
    "Kmeans = KMeans(init=\"random\", n_clusters=5, n_init=10, max_iter= 300, random_state=42)"
   ]
  },
  {
   "cell_type": "code",
   "execution_count": 78,
   "metadata": {},
   "outputs": [
    {
     "data": {
      "text/plain": [
       "KMeans(init='random', n_clusters=5, random_state=42)"
      ]
     },
     "execution_count": 78,
     "metadata": {},
     "output_type": "execute_result"
    }
   ],
   "source": [
    "# the next step is to fit the model with the scaled data.\n",
    "Kmeans.fit(scaled_features)"
   ]
  },
  {
   "cell_type": "code",
   "execution_count": 79,
   "metadata": {},
   "outputs": [
    {
     "data": {
      "text/plain": [
       "52.27538725902107"
      ]
     },
     "execution_count": 79,
     "metadata": {},
     "output_type": "execute_result"
    }
   ],
   "source": [
    "# Statistic from the initializton run with the lowest SSE are avilable\n",
    "# as atribute pf kmeans after calling function inertia_\n",
    "\n",
    "Kmeans.inertia_"
   ]
  },
  {
   "cell_type": "code",
   "execution_count": 80,
   "metadata": {},
   "outputs": [
    {
     "name": "stdout",
     "output_type": "stream",
     "text": [
      "[1 3 2 0 0]\n",
      "[1 0 2 2 2]\n"
     ]
    }
   ],
   "source": [
    "# The clusters assigments are stores a one-dimentional Numpy array\n",
    "print(Kmeans.labels_[:5])\n",
    "print(true_labels[:5])"
   ]
  },
  {
   "cell_type": "code",
   "execution_count": 85,
   "metadata": {},
   "outputs": [],
   "source": [
    "# Running the model using different configuration\n",
    "kmean_kwarg = {\"init\":\"random\",\"n_init\":10,\"max_iter\":300,\"random_state\":42}\n",
    "\n",
    "#create empty list to old the SSE for each k\n",
    "number_of_cluster = 9\n",
    "sse = []\n",
    "for k in range(1,number_of_cluster):\n",
    "    Kmeans = KMeans(n_clusters = k, **kmean_kwarg)\n",
    "    Kmeans.fit(scaled_features)\n",
    "    sse.append(Kmeans.inertia_)"
   ]
  },
  {
   "cell_type": "code",
   "execution_count": 82,
   "metadata": {},
   "outputs": [
    {
     "data": {
      "text/plain": [
       "Text(0, 0.5, 'SSE')"
      ]
     },
     "execution_count": 82,
     "metadata": {},
     "output_type": "execute_result"
    },
    {
     "data": {
      "image/png": "[encoded data removed]",
      "text/plain": [
       "<Figure size 432x288 with 1 Axes>"
      ]
     },
     "metadata": {},
     "output_type": "display_data"
    }
   ],
   "source": [
    "plt.style.use(\"fivethirtyeight\")\n",
    "plt.plot(range(1,number_of_cluster),sse)\n",
    "plt.xticks(range(1,number_of_cluster))\n",
    "plt.xlabel(\"Number of Clusters\")\n",
    "plt.ylabel(\"SSE\")\n"
   ]
  },
  {
   "cell_type": "code",
   "execution_count": 84,
   "metadata": {},
   "outputs": [
    {
     "name": "stdout",
     "output_type": "stream",
     "text": [
      "[6 3 2 0 0 2 3 0 1 2]\n",
      "[1 0 2 2 2 2 0 2 1 2]\n",
      "38.52881875287542\n"
     ]
    }
   ],
   "source": [
    "print(Kmeans.labels_[:10])\n",
    "print(true_labels[:10])\n",
    "print(Kmeans.inertia_)"
   ]
  }
 ],
 "metadata": {
  "interpreter": {
   "hash": "48537609f0491a4e374724a8864aed50b564b0806a9c311cacb509fc89655065"
  },
  "kernelspec": {
   "display_name": "Python 3.9.7 64-bit ('base': conda)",
   "language": "python",
   "name": "python3"
  },
  "language_info": {
   "codemirror_mode": {
    "name": "ipython",
    "version": 3
   },
   "file_extension": ".py",
   "mimetype": "text/x-python",
   "name": "python",
   "nbconvert_exporter": "python",
   "pygments_lexer": "ipython3",
   "version": "3.9.7"
  },
  "orig_nbformat": 4
 },
 "nbformat": 4,
 "nbformat_minor": 2
}
