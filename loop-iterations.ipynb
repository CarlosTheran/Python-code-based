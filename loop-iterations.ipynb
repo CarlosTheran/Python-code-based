{
 "cells": [
  {
   "cell_type": "code",
   "execution_count": 6,
   "metadata": {},
   "outputs": [
    {
     "name": "stdout",
     "output_type": "stream",
     "text": [
      "Starting\n",
      "0   1   2   3   4   5   6   7   8   9   \n",
      "Done\n"
     ]
    }
   ],
   "source": [
    "# working with while loop\n",
    "\n",
    "count = 0\n",
    "print('Starting')\n",
    "while count < 10:\n",
    "    print(count,\" \",end=\" \") #part of the while loop\n",
    "    count += 1 #count = count + 1\n",
    "print()\n",
    "print('Done')    "
   ]
  },
  {
   "cell_type": "code",
   "execution_count": 9,
   "metadata": {},
   "outputs": [
    {
     "name": "stdout",
     "output_type": "stream",
     "text": [
      "Print out values in a range\n",
      "0   2   4   6   8   \n",
      "Done\n"
     ]
    }
   ],
   "source": [
    "# Loop over a set of values in a range\n",
    "print('Print out values in a range')\n",
    "for i in range(0,10,2):\n",
    "    print(i, ' ', end=' ')\n",
    "print()\n",
    "print('Done')    "
   ]
  },
  {
   "cell_type": "code",
   "execution_count": 8,
   "metadata": {},
   "outputs": [
    {
     "name": "stdout",
     "output_type": "stream",
     "text": [
      "0   2   4   6   8   \n",
      "Done\n"
     ]
    }
   ],
   "source": [
    "# Now use values in a range but increament by 2\n",
    "\n",
    "for i in range(0,10,2):\n",
    "    print(i,' ',end=' ')\n",
    "print()\n",
    "print('Done')    "
   ]
  },
  {
   "cell_type": "code",
   "execution_count": 20,
   "metadata": {},
   "outputs": [
    {
     "name": "stdout",
     "output_type": "stream",
     "text": [
      "Only print code if all interation completed\n",
      "0   1   2   3   \n",
      "We are breaking the loop\n",
      "Done\n"
     ]
    }
   ],
   "source": [
    "# Break loop statement\n",
    "print('Only print code if all interation completed')\n",
    "num = int(input('Enter a number to check for: '))\n",
    "for i in range(0,6):\n",
    "    if i == num:\n",
    "        print(\"\\nWe are breaking the loop\",end='\\n')\n",
    "        break\n",
    "    print(i,\" \",end=\" \")\n",
    "print('Done')"
   ]
  },
  {
   "cell_type": "code",
   "execution_count": 23,
   "metadata": {},
   "outputs": [
    {
     "name": "stdout",
     "output_type": "stream",
     "text": [
      "0  hey it is an even number\n",
      "2  hey it is an even number\n",
      "4  hey it is an even number\n",
      "6  hey it is an even number\n",
      "8  hey it is an even number\n",
      "Done\n"
     ]
    }
   ],
   "source": [
    "# Continue Loop Statement\n",
    "\n",
    "for i in range(0,10):\n",
    "    #print(i,' ',end='\\n')\n",
    "    if i%2 == 1:\n",
    "       continue\n",
    "    print(i,' hey it is an even number')\n",
    "print('Done')   \n"
   ]
  }
 ],
 "metadata": {
  "interpreter": {
   "hash": "31f2aee4e71d21fbe5cf8b01ff0e069b9275f58929596ceb00d14d90e3e16cd6"
  },
  "kernelspec": {
   "display_name": "Python 3.8.9 64-bit",
   "language": "python",
   "name": "python3"
  },
  "language_info": {
   "codemirror_mode": {
    "name": "ipython",
    "version": 3
   },
   "file_extension": ".py",
   "mimetype": "text/x-python",
   "name": "python",
   "nbconvert_exporter": "python",
   "pygments_lexer": "ipython3",
   "version": "3.8.9"
  },
  "orig_nbformat": 4
 },
 "nbformat": 4,
 "nbformat_minor": 2
}
